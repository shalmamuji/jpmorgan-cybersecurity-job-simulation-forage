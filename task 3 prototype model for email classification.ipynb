{
 "cells": [
  {
   "cell_type": "code",
   "execution_count": 1,
   "id": "85a4ac9e",
   "metadata": {},
   "outputs": [],
   "source": [
    "import os\n",
    "from sklearn.feature_extraction.text import CountVectorizer\n",
    "from sklearn.model_selection import train_test_split\n",
    "from sklearn.naive_bayes import MultinomialNB\n",
    "from sklearn.metrics import accuracy_score, classification_report"
   ]
  },
  {
   "cell_type": "code",
   "execution_count": 2,
   "id": "0331b981",
   "metadata": {},
   "outputs": [],
   "source": [
    "# Function to load the dataset\n",
    "def load_dataset(folder_path):\n",
    "    ham_folder = os.path.join(folder_path, \"ham\")\n",
    "    spam_folder = os.path.join(folder_path, \"spam\")\n",
    "    ham_files = [os.path.join(ham_folder, filename) for filename in os.listdir(ham_folder)]\n",
    "    spam_files = [os.path.join(spam_folder, filename) for filename in os.listdir(spam_folder)]\n",
    "    emails = []\n",
    "    labels = []\n",
    "    for file_path in ham_files:\n",
    "        with open(file_path, 'r', encoding='latin1') as file:\n",
    "            emails.append(file.read())\n",
    "            labels.append(0)  # 0 for ham\n",
    "    for file_path in spam_files:\n",
    "        with open(file_path, 'r', encoding='latin1') as file:\n",
    "            emails.append(file.read())\n",
    "            labels.append(1)  # 1 for spam\n",
    "    return emails, labels\n"
   ]
  },
  {
   "cell_type": "code",
   "execution_count": 5,
   "id": "a41c2695",
   "metadata": {},
   "outputs": [],
   "source": [
    "import os\n",
    "import zipfile\n",
    "\n",
    "def extract_enron_zip(zip_file_path, extract_to):\n",
    "    with zipfile.ZipFile(zip_file_path, 'r') as zip_ref:\n",
    "        zip_ref.extractall(extract_to)\n",
    "\n",
    "def load_dataset(folder_path):\n",
    "    ham_folder = os.path.join(folder_path, \"ham\")\n",
    "    spam_folder = os.path.join(folder_path, \"spam\")\n",
    "    ham_files = [os.path.join(ham_folder, filename) for filename in os.listdir(ham_folder)]\n",
    "    spam_files = [os.path.join(spam_folder, filename) for filename in os.listdir(spam_folder)]\n",
    "    emails = []\n",
    "    labels = []\n",
    "    for filename in ham_files:\n",
    "        with open(filename, \"r\", encoding=\"latin-1\") as file:\n",
    "            emails.append(file.read())\n",
    "            labels.append(0)  # 0 represents \"ham\"\n",
    "    for filename in spam_files:\n",
    "        with open(filename, \"r\", encoding=\"latin-1\") as file:\n",
    "            emails.append(file.read())\n",
    "            labels.append(1)  # 1 represents \"spam\"\n",
    "    return emails, labels\n",
    "\n",
    "# Step 1: Extract the Enron dataset from the zip file\n",
    "zip_file_path = r\"C:\\Users\\Shalma\\Downloads\\enron1.zip\"\n",
    "extract_to = r\"C:\\Users\\Shalma\\project documents\"\n",
    "extract_enron_zip(zip_file_path, extract_to)\n",
    "\n",
    "# Step 2: Load the Dataset\n",
    "folder_path = os.path.join(extract_to, \"enron1\")\n",
    "emails, labels = load_dataset(folder_path)\n"
   ]
  },
  {
   "cell_type": "code",
   "execution_count": 6,
   "id": "cad93305",
   "metadata": {
    "scrolled": true
   },
   "outputs": [
    {
     "name": "stdout",
     "output_type": "stream",
     "text": [
      "Accuracy: 0.9826086956521739\n",
      "Classification Report:\n",
      "              precision    recall  f1-score   support\n",
      "\n",
      "           0       0.99      0.99      0.99       749\n",
      "           1       0.97      0.97      0.97       286\n",
      "\n",
      "    accuracy                           0.98      1035\n",
      "   macro avg       0.98      0.98      0.98      1035\n",
      "weighted avg       0.98      0.98      0.98      1035\n",
      "\n"
     ]
    }
   ],
   "source": [
    "from sklearn.feature_extraction.text import CountVectorizer\n",
    "from sklearn.model_selection import train_test_split\n",
    "from sklearn.naive_bayes import MultinomialNB\n",
    "from sklearn.metrics import accuracy_score, classification_report\n",
    "\n",
    "# Step 3: Preprocess the Dataset\n",
    "vectorizer = CountVectorizer()\n",
    "X = vectorizer.fit_transform(emails)\n",
    "y = labels\n",
    "\n",
    "# Step 4: Split the Dataset into Training and Testing Sets\n",
    "X_train, X_test, y_train, y_test = train_test_split(X, y, test_size=0.2, random_state=42)\n",
    "\n",
    "# Step 5: Select the Appropriate Classifier\n",
    "classifier = MultinomialNB()\n",
    "\n",
    "# Step 6: Train the Model\n",
    "classifier.fit(X_train, y_train)\n",
    "\n",
    "# Step 7: Evaluate the Model\n",
    "y_pred = classifier.predict(X_test)\n",
    "accuracy = accuracy_score(y_test, y_pred)\n",
    "print(\"Accuracy:\", accuracy)\n",
    "print(\"Classification Report:\")\n",
    "print(classification_report(y_test, y_pred))\n"
   ]
  },
  {
   "cell_type": "code",
   "execution_count": 13,
   "id": "a6754abc",
   "metadata": {},
   "outputs": [],
   "source": [
    "# Step 1: Extract the Enron dataset from the ZIP file\n",
    "zipfile_path = r\"C:\\Users\\Shalma\\Downloads\\enron1.zip\"\n",
    "extract_to = r\"C:\\Users\\Shalma\\project documents\"\n",
    "with zipfile.ZipFile(zipfile_path, 'r') as zip_ref:\n",
    "    zip_ref.extractall(extract_to)"
   ]
  },
  {
   "cell_type": "code",
   "execution_count": 11,
   "id": "f570a833",
   "metadata": {},
   "outputs": [
    {
     "data": {
      "text/html": [
       "<style>#sk-container-id-1 {color: black;}#sk-container-id-1 pre{padding: 0;}#sk-container-id-1 div.sk-toggleable {background-color: white;}#sk-container-id-1 label.sk-toggleable__label {cursor: pointer;display: block;width: 100%;margin-bottom: 0;padding: 0.3em;box-sizing: border-box;text-align: center;}#sk-container-id-1 label.sk-toggleable__label-arrow:before {content: \"▸\";float: left;margin-right: 0.25em;color: #696969;}#sk-container-id-1 label.sk-toggleable__label-arrow:hover:before {color: black;}#sk-container-id-1 div.sk-estimator:hover label.sk-toggleable__label-arrow:before {color: black;}#sk-container-id-1 div.sk-toggleable__content {max-height: 0;max-width: 0;overflow: hidden;text-align: left;background-color: #f0f8ff;}#sk-container-id-1 div.sk-toggleable__content pre {margin: 0.2em;color: black;border-radius: 0.25em;background-color: #f0f8ff;}#sk-container-id-1 input.sk-toggleable__control:checked~div.sk-toggleable__content {max-height: 200px;max-width: 100%;overflow: auto;}#sk-container-id-1 input.sk-toggleable__control:checked~label.sk-toggleable__label-arrow:before {content: \"▾\";}#sk-container-id-1 div.sk-estimator input.sk-toggleable__control:checked~label.sk-toggleable__label {background-color: #d4ebff;}#sk-container-id-1 div.sk-label input.sk-toggleable__control:checked~label.sk-toggleable__label {background-color: #d4ebff;}#sk-container-id-1 input.sk-hidden--visually {border: 0;clip: rect(1px 1px 1px 1px);clip: rect(1px, 1px, 1px, 1px);height: 1px;margin: -1px;overflow: hidden;padding: 0;position: absolute;width: 1px;}#sk-container-id-1 div.sk-estimator {font-family: monospace;background-color: #f0f8ff;border: 1px dotted black;border-radius: 0.25em;box-sizing: border-box;margin-bottom: 0.5em;}#sk-container-id-1 div.sk-estimator:hover {background-color: #d4ebff;}#sk-container-id-1 div.sk-parallel-item::after {content: \"\";width: 100%;border-bottom: 1px solid gray;flex-grow: 1;}#sk-container-id-1 div.sk-label:hover label.sk-toggleable__label {background-color: #d4ebff;}#sk-container-id-1 div.sk-serial::before {content: \"\";position: absolute;border-left: 1px solid gray;box-sizing: border-box;top: 0;bottom: 0;left: 50%;z-index: 0;}#sk-container-id-1 div.sk-serial {display: flex;flex-direction: column;align-items: center;background-color: white;padding-right: 0.2em;padding-left: 0.2em;position: relative;}#sk-container-id-1 div.sk-item {position: relative;z-index: 1;}#sk-container-id-1 div.sk-parallel {display: flex;align-items: stretch;justify-content: center;background-color: white;position: relative;}#sk-container-id-1 div.sk-item::before, #sk-container-id-1 div.sk-parallel-item::before {content: \"\";position: absolute;border-left: 1px solid gray;box-sizing: border-box;top: 0;bottom: 0;left: 50%;z-index: -1;}#sk-container-id-1 div.sk-parallel-item {display: flex;flex-direction: column;z-index: 1;position: relative;background-color: white;}#sk-container-id-1 div.sk-parallel-item:first-child::after {align-self: flex-end;width: 50%;}#sk-container-id-1 div.sk-parallel-item:last-child::after {align-self: flex-start;width: 50%;}#sk-container-id-1 div.sk-parallel-item:only-child::after {width: 0;}#sk-container-id-1 div.sk-dashed-wrapped {border: 1px dashed gray;margin: 0 0.4em 0.5em 0.4em;box-sizing: border-box;padding-bottom: 0.4em;background-color: white;}#sk-container-id-1 div.sk-label label {font-family: monospace;font-weight: bold;display: inline-block;line-height: 1.2em;}#sk-container-id-1 div.sk-label-container {text-align: center;}#sk-container-id-1 div.sk-container {/* jupyter's `normalize.less` sets `[hidden] { display: none; }` but bootstrap.min.css set `[hidden] { display: none !important; }` so we also need the `!important` here to be able to override the default hidden behavior on the sphinx rendered scikit-learn.org. See: https://github.com/scikit-learn/scikit-learn/issues/21755 */display: inline-block !important;position: relative;}#sk-container-id-1 div.sk-text-repr-fallback {display: none;}</style><div id=\"sk-container-id-1\" class=\"sk-top-container\"><div class=\"sk-text-repr-fallback\"><pre>LogisticRegression()</pre><b>In a Jupyter environment, please rerun this cell to show the HTML representation or trust the notebook. <br />On GitHub, the HTML representation is unable to render, please try loading this page with nbviewer.org.</b></div><div class=\"sk-container\" hidden><div class=\"sk-item\"><div class=\"sk-estimator sk-toggleable\"><input class=\"sk-toggleable__control sk-hidden--visually\" id=\"sk-estimator-id-1\" type=\"checkbox\" checked><label for=\"sk-estimator-id-1\" class=\"sk-toggleable__label sk-toggleable__label-arrow\">LogisticRegression</label><div class=\"sk-toggleable__content\"><pre>LogisticRegression()</pre></div></div></div></div></div>"
      ],
      "text/plain": [
       "LogisticRegression()"
      ]
     },
     "execution_count": 11,
     "metadata": {},
     "output_type": "execute_result"
    }
   ],
   "source": [
    "# Step 3: Train your model using scikit-learn\n",
    "vectorizer = TfidfVectorizer()\n",
    "X = vectorizer.fit_transform(emails)\n",
    "y = labels\n",
    "classifier = LogisticRegression()\n",
    "classifier.fit(X, y)"
   ]
  },
  {
   "cell_type": "code",
   "execution_count": 12,
   "id": "fb15f09a",
   "metadata": {},
   "outputs": [
    {
     "name": "stdout",
     "output_type": "stream",
     "text": [
      "Accuracy: 0.9947826086956522\n",
      "Classification Report:\n",
      "               precision    recall  f1-score   support\n",
      "\n",
      "           0       1.00      0.99      1.00      3672\n",
      "           1       0.98      1.00      0.99      1503\n",
      "\n",
      "    accuracy                           0.99      5175\n",
      "   macro avg       0.99      1.00      0.99      5175\n",
      "weighted avg       0.99      0.99      0.99      5175\n",
      "\n"
     ]
    }
   ],
   "source": [
    "# Step 4: Evaluate the model\n",
    "y_pred = classifier.predict(X)\n",
    "accuracy = accuracy_score(y, y_pred)\n",
    "classification_rep = classification_report(y, y_pred)\n",
    "\n",
    "print(\"Accuracy:\", accuracy)\n",
    "print(\"Classification Report:\\n\", classification_rep)"
   ]
  },
  {
   "cell_type": "code",
   "execution_count": 15,
   "id": "5082d599",
   "metadata": {},
   "outputs": [],
   "source": [
    "# Step 5: Extract keywords\n",
    "feature_names = vectorizer.get_feature_names_out()\n",
    "coefficients = classifier.coef_[0]\n",
    "word_coefficient_map = dict(zip(feature_names, coefficients))\n"
   ]
  },
  {
   "cell_type": "code",
   "execution_count": 20,
   "id": "8f3d8215",
   "metadata": {},
   "outputs": [
    {
     "name": "stdout",
     "output_type": "stream",
     "text": [
      "\n",
      "Top 20 words for Ham:\n",
      "http : 2.8266655270364582\n",
      "no : 2.567478170859084\n",
      "here : 2.2969382174771686\n",
      "money : 2.0255666164712136\n",
      "more : 1.9600673808352733\n",
      "your : 1.9215537272647256\n",
      "2004 : 1.881919169330377\n",
      "of : 1.7797683568363354\n",
      "only : 1.6207817108935287\n",
      "best : 1.4846800922002688\n",
      "statements : 1.4543507751061133\n",
      "paliourg : 1.432340836945703\n",
      "prices : 1.4310019824998903\n",
      "our : 1.3842984736487485\n",
      "removed : 1.3564166089538328\n",
      "meds : 1.3492785408094747\n",
      "computron : 1.3491413890963218\n",
      "online : 1.3476543834018864\n",
      "remove : 1.2973984460906642\n",
      "click : 1.2915937945680953\n",
      "\n",
      "Top 20 words for Spam:\n",
      "enron : -4.778174685305152\n",
      "xls : -3.654623462715288\n",
      "meter : -3.5281700716851154\n",
      "2000 : -3.4505621892562304\n",
      "deal : -3.4359823341758893\n",
      "the : -3.372180479620564\n",
      "attached : -3.2939555134113125\n",
      "hpl : -3.1136032200581\n",
      "thanks : -3.035153676943212\n",
      "2001 : -2.962600124488794\n",
      "gas : -2.960563403620033\n",
      "please : -2.8982346283814864\n",
      "will : -2.8900786616019443\n",
      "daren : -2.837583052911683\n",
      "to : -2.8099462345341153\n",
      "ect : -2.762489476948147\n",
      "on : -2.4782907886590793\n",
      "at : -2.4456417526795398\n",
      "for : -2.413767805612139\n",
      "nom : -2.284226568596291\n"
     ]
    }
   ],
   "source": [
    "# Sort the word_coefficient_map by coefficient value in descending order\n",
    "sorted_words_ham = sorted(word_coefficient_map.items(), key=lambda x: x[1], reverse=True)\n",
    "\n",
    "# Print the top words for Ham\n",
    "top_n = 20  # Define the number of top words to print\n",
    "print(\"\\nTop\", top_n, \"words for Ham:\")\n",
    "for word, coef in sorted_words_ham[:top_n]:\n",
    "    print(word, \":\", coef)\n",
    "\n",
    "# Sort the word_coefficient_map by coefficient value in ascending order for Spam\n",
    "sorted_words_spam = sorted(word_coefficient_map.items(), key=lambda x: x[1])\n",
    "\n",
    "# Print the top words for Spam\n",
    "print(\"\\nTop\", top_n, \"words for Spam:\")\n",
    "for word, coef in sorted_words_spam[:top_n]:\n",
    "    print(word, \":\", coef)\n"
   ]
  },
  {
   "cell_type": "code",
   "execution_count": null,
   "id": "1f57438b",
   "metadata": {},
   "outputs": [],
   "source": []
  }
 ],
 "metadata": {
  "kernelspec": {
   "display_name": "Python 3 (ipykernel)",
   "language": "python",
   "name": "python3"
  },
  "language_info": {
   "codemirror_mode": {
    "name": "ipython",
    "version": 3
   },
   "file_extension": ".py",
   "mimetype": "text/x-python",
   "name": "python",
   "nbconvert_exporter": "python",
   "pygments_lexer": "ipython3",
   "version": "3.11.5"
  }
 },
 "nbformat": 4,
 "nbformat_minor": 5
}
